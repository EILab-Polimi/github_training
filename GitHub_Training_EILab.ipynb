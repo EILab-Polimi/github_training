{
 "cells": [
  {
   "cell_type": "markdown",
   "metadata": {
    "id": "9VIVSmVeYhWJ",
    "tags": []
   },
   "source": [
    "# GitHub Training Notebook: EILab's Collaborative Coding Guide #"
   ]
  },
  {
   "cell_type": "markdown",
   "metadata": {},
   "source": [
    "Welcome to the Environmental Intelligence Lab's (EILab) introductory guide to **GitHub** and **Git**. \\\n",
    "This guide is designed to equip you with the fundamental skills and knowledge needed to harness the power of Git and GitHub. **Git** is a distributed version control system designed to handle projects with speed and efficiency, organizigin them in repositories. It allows multiple developers to work together on the same codebase, enabling them to track changes, revert to previous states, and branch off to develop new features without affecting the main project. **Github** is a cloud-based hosting service that lets you manage Git repositories. It is the leading platform for version control and collaborative software development. GitHub makes it incredibly easy to collaborate on projects, review code, manage changes, and maintain a history of your work."
   ]
  },
  {
   "cell_type": "markdown",
   "metadata": {},
   "source": [
    "## Key Feature of GitHub ## \n",
    "- **Repositories:** a repository (or \"repo\") is where you store yout project's files and each file's revision history. repos can be public or private.\n",
    "- **Branches:**\n",
    "- **Commits:**\n",
    "- **Pull Requests:**\n",
    "- **Issues:**"
   ]
  },
  {
   "cell_type": "code",
   "execution_count": null,
   "metadata": {
    "colab": {
     "base_uri": "https://localhost:8080/",
     "height": 249
    },
    "id": "8EPHVhgnZOK-",
    "outputId": "35074864-54c3-4e85-d29d-80d5c0c4f0d5"
   },
   "outputs": [
    {
     "data": {
      "text/markdown": [
       "**main.py:**\n"
      ],
      "text/plain": [
       "<IPython.core.display.Markdown object>"
      ]
     },
     "metadata": {},
     "output_type": "display_data"
    },
    {
     "name": "stdout",
     "output_type": "stream",
     "text": [
      "from utils import *\n",
      "\n",
      "x = 3\n",
      "y = 6\n",
      "print(f\"Let's sum {x} and {y}\")\n",
      "z = sum(x, y)\n",
      "print(f'The answer is {z}')\n",
      "\n"
     ]
    },
    {
     "data": {
      "text/markdown": [
       "\n",
       "**utils.py:**\n"
      ],
      "text/plain": [
       "<IPython.core.display.Markdown object>"
      ]
     },
     "metadata": {},
     "output_type": "display_data"
    },
    {
     "name": "stdout",
     "output_type": "stream",
     "text": [
      "def sum(a, b):\n",
      "\treturn a + b\n"
     ]
    }
   ],
   "source": [
    "from IPython.display import Markdown, display\n",
    "def print_files():\n",
    "  display(Markdown(\"**main.py:**\\n\"))\n",
    "  print(open('main.py').read())\n",
    "  display(Markdown(\"\\n**utils.py:**\\n\"))\n",
    "  print(open('utils.py').read())\n",
    "\n",
    "print_files()"
   ]
  },
  {
   "cell_type": "code",
   "execution_count": null,
   "metadata": {
    "colab": {
     "base_uri": "https://localhost:8080/"
    },
    "id": "0eWNjhn0U-Cw",
    "outputId": "cb472015-6a2c-4676-b9a0-ef3ef232736f"
   },
   "outputs": [
    {
     "name": "stdout",
     "output_type": "stream",
     "text": [
      "Let's sum 3 and 6\n",
      "The answer is 9\n"
     ]
    }
   ],
   "source": [
    "!python main.py"
   ]
  },
  {
   "cell_type": "markdown",
   "source": [
    "Let's now add some more functionalities to our repository.\n",
    "\n",
    "Open utils.py and add the following function\n",
    "```\n",
    "def multiply(a, b):\n",
    "  return a * b\n",
    "```\n",
    "Now open main.py and add at the end the following code\n",
    "```\n",
    "print()\n",
    "print(f\\\"Let's multiply {x} and {y}\\\")\n",
    "z = multiply(x, y)\n",
    "print(f'The answer is {z}')\n",
    "```"
   ],
   "metadata": {
    "collapsed": false
   }
  },
  {
   "cell_type": "code",
   "execution_count": null,
   "metadata": {
    "colab": {
     "base_uri": "https://localhost:8080/",
     "height": 371
    },
    "id": "zn9_R1LWZD6V",
    "outputId": "7ec0f759-a80a-4b4f-ea09-4458cdae5039"
   },
   "outputs": [
    {
     "data": {
      "text/markdown": [
       "**main.py:**\n"
      ],
      "text/plain": [
       "<IPython.core.display.Markdown object>"
      ]
     },
     "metadata": {},
     "output_type": "display_data"
    },
    {
     "name": "stdout",
     "output_type": "stream",
     "text": [
      "from utils import *\n",
      "\n",
      "x = 3\n",
      "y = 6\n",
      "print(f\"Let's sum {x} and {y}\")\n",
      "z = sum(x, y)\n",
      "print(f'The answer is {z}')\n",
      "print()\n",
      "print(f\"Let's multiply {x} and {y}\")\n",
      "z = multiply(x, y)\n",
      "print(f'The answer is {z}')\n",
      "\n"
     ]
    },
    {
     "data": {
      "text/markdown": [
       "\n",
       "**utils.py:**\n"
      ],
      "text/plain": [
       "<IPython.core.display.Markdown object>"
      ]
     },
     "metadata": {},
     "output_type": "display_data"
    },
    {
     "name": "stdout",
     "output_type": "stream",
     "text": [
      "def sum(a, b):\n",
      "\treturn a + b\n",
      "\n",
      "def multiply(a, b):\n",
      "\treturn a * b\n"
     ]
    }
   ],
   "source": [
    "with open('utils.py', 'a') as utils:\n",
    "  mul = \"\\n\\ndef multiply(a, b):\\n\\treturn a * b\"\n",
    "  utils.write(mul)\n",
    "\n",
    "with open('main.py', 'a') as main:\n",
    "  mul = \"print()\\nprint(f\\\"Let's multiply {x} and {y}\\\")\\nz = multiply(x, y)\\nprint(f'The answer is {z}')\\n\"\n",
    "  main.write(mul)\n",
    "\n",
    "print_files()"
   ]
  },
  {
   "cell_type": "code",
   "execution_count": null,
   "metadata": {
    "colab": {
     "base_uri": "https://localhost:8080/"
    },
    "id": "HSNpROhcZL0d",
    "outputId": "6940eefa-3cf9-4610-9e47-402cc7a310c8"
   },
   "outputs": [
    {
     "name": "stdout",
     "output_type": "stream",
     "text": [
      "Let's sum 3 and 6\n",
      "The answer is 9\n",
      "\n",
      "Let's multiply 3 and 6\n",
      "The answer is 18\n"
     ]
    }
   ],
   "source": [
    "!python main.py"
   ]
  },
  {
   "cell_type": "markdown",
   "source": [
    "## Stage, Commit, Push\n",
    "The Stage-Commit-Push pipeline forms the core workflow in Git and GitHub.\n",
    "It involves three steps:\n",
    "- **Stage (git add):** This step lets us choose which files or specific changes within files we want to upload to the repository. Think of it as picking what updates to include in the next package we send to the repository. This flexibility allows us to decide which changes are put together in the current package and which ones to include in the next.\n",
    "- **Commit (git commit):** After selecting our changes, we use this command to make them a permanent part of the project's history. Creating a commit is like taking a snapshot of the entire project at a specific moment, keeping also track of the changes with the previous version. It's what makes version control possible. Each commit comes with a short message explaining what was done. It's best to keep these messages clear and concise (usually less than 60 characters). It's a good practice to keep commits as small as possible, having a single conceptual change in each of them, reflected by the fact that the message summarising all changes inside it shouldn't exceed 60 characters.\n",
    "- **Push (gti push):** Once we've saved our changes locally, we use this command to upload them to the online repository. This step ensures that our work is visible to collaborators and keeps the project up to date for everyone involved."
   ],
   "metadata": {
    "collapsed": false
   }
  },
  {
   "cell_type": "markdown",
   "source": [
    "### Stage\n",
    "Let's add the two edited files with the git add command\n",
    "```\n",
    "git add <file_name>\n",
    "```\n",
    "(To add only specific lines refer to \"--patch\" option online)"
   ],
   "metadata": {
    "collapsed": false
   }
  },
  {
   "cell_type": "code",
   "execution_count": null,
   "outputs": [],
   "source": [
    "!git add main.py utils.py"
   ],
   "metadata": {
    "collapsed": false
   }
  },
  {
   "cell_type": "markdown",
   "source": [
    "### Commit\n",
    "Let's commit the staged changes with the git commit command\n",
    "```\n",
    "git commit -m <your_message>\n",
    "```"
   ],
   "metadata": {
    "collapsed": false
   }
  },
  {
   "cell_type": "code",
   "execution_count": null,
   "outputs": [],
   "source": [
    "!git commit -m \"Add multiply\""
   ],
   "metadata": {
    "collapsed": false
   }
  },
  {
   "cell_type": "markdown",
   "source": [
    "### Push\n",
    "Let's push the committed changes with the git push command\n",
    "```\n",
    "git push origin <destination>\n",
    "```"
   ],
   "metadata": {
    "collapsed": false
   }
  },
  {
   "cell_type": "code",
   "execution_count": null,
   "outputs": [],
   "source": [
    "!git push origin development"
   ],
   "metadata": {
    "collapsed": false
   }
  }
 ],
 "metadata": {
  "colab": {
   "provenance": []
  },
  "kernelspec": {
   "display_name": "Python 3 (ipykernel)",
   "language": "python",
   "name": "python3"
  },
  "language_info": {
   "codemirror_mode": {
    "name": "ipython",
    "version": 3
   },
   "file_extension": ".py",
   "mimetype": "text/x-python",
   "name": "python",
   "nbconvert_exporter": "python",
   "pygments_lexer": "ipython3",
   "version": "3.9.16"
  }
 },
 "nbformat": 4,
 "nbformat_minor": 4
}
