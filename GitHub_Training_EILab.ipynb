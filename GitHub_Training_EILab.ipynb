{
 "cells": [
  {
   "cell_type": "markdown",
   "metadata": {
    "id": "9VIVSmVeYhWJ",
    "tags": []
   },
   "source": [
    "# Git and GitHub Training Notebook: EILab's Collaborative Coding Guide #"
   ]
  },
  {
   "cell_type": "markdown",
   "metadata": {},
   "source": [
    "Welcome to the Environmental Intelligence Lab's (EILab) introductory guide to **GitHub** and **Git**!\n",
    "\n",
    "This guide is designed to equip you with the fundamental skills and knowledge needed to harness the power of Git and GitHub. **Git** is a distributed version control system designed to handle projects with speed and efficiency, organizing them in repositories. It allows multiple developers to work together on the same codebase, enabling them to track changes, revert to previous states, and branch off to develop new features without affecting the main project. **Github** is a cloud-based hosting service that lets you manage Git repositories. It is the leading platform for version control and collaborative software development. GitHub makes it incredibly easy to collaborate on projects, review code, manage changes, and maintain a history of your work."
   ]
  },
  {
   "cell_type": "markdown",
   "metadata": {
    "jp-MarkdownHeadingCollapsed": true,
    "tags": []
   },
   "source": [
    "## Set up a GitHub Repository and Clone into local folder ##"
   ]
  },
  {
   "cell_type": "markdown",
   "metadata": {},
   "source": [
    "**Set Up the Repository**\n",
    "1. Log in to [GitHub.com](https://github.com/)\n",
    "2. Click on the green button *\"New\"*\n",
    "\n",
    "<img src=\"images/github_homepage.png\" width=\"700\"/>\n",
    "\n",
    "3. Choose a descriptive name and write a brief description for your repository\n",
    "4. Select whether to make the repository public or private\n",
    "5. Add a README file, or you can do it later (just make sure you include one!)\n",
    "6. Choose which files not to track (.gitignore file)\n",
    "7. Choose a license for your repository (if applicable)\n",
    "8. Click on the green button *\"Create repository\"*\n",
    "\n",
    "<img src=\"images/repo_setup.png\" width=\"700\"/>\n",
    "\n",
    "**Clone the Repository**\n",
    "\n",
    "1. On [GitHub.com](https://github.com/), navigate to the main page of the repository\n",
    "2. Above the list of files, click on the green button *\"<> Code\"*\n",
    "\n",
    "<img src=\"images/repo_homepage.png\" width=\"700\"/>\n",
    "\n",
    "3. Copy the URL for the repository \n",
    "\n",
    "<img src=\"images/repo_url_copy.png\" width=\"700\"/>\n",
    "\n",
    "4. Open Terminal\n",
    "5. Change the current working directory to the location where you want the cloned repository\n",
    "6. Type <code>git clone</code>, and then paste the URL copied earlier \\\n",
    "    <code>git clone https://github.com/Carmelo-Belo/trial_repository.git</code>\n",
    "7. Press **Enter** to create your local clone \\\n",
    "    <code>$ git clone https://github.com/Carmelo-Belo/trial_repository.git</code> \\\n",
    "    <code>> Cloning into 'trial_repository'...</code> \\\n",
    "    <code>> remote: Enumerating objects: 4, done.</code> \\\n",
    "    <code>> remote: Counting objects: 100% (4/4), done.</code> \\\n",
    "    <code>> remote: Compressing objects: 100% (4/4), done.</code> \\\n",
    "    <code>> remote: Total 4 (delta 0), reused 0 (delta 0), pack-reused 0</code> \\\n",
    "    <code>> Receiving objects: 100% (4/4), done.</code>"
   ]
  },
  {
   "cell_type": "code",
   "execution_count": null,
   "metadata": {
    "colab": {
     "base_uri": "https://localhost:8080/",
     "height": 249
    },
    "id": "8EPHVhgnZOK-",
    "outputId": "35074864-54c3-4e85-d29d-80d5c0c4f0d5"
   },
   "outputs": [
    {
     "data": {
      "text/markdown": [
       "**main.py:**\n"
      ],
      "text/plain": [
       "<IPython.core.display.Markdown object>"
      ]
     },
     "metadata": {},
     "output_type": "display_data"
    },
    {
     "name": "stdout",
     "output_type": "stream",
     "text": [
      "from utils import *\n",
      "\n",
      "x = 3\n",
      "y = 6\n",
      "print(f\"Let's sum {x} and {y}\")\n",
      "z = sum(x, y)\n",
      "print(f'The answer is {z}')\n",
      "\n"
     ]
    },
    {
     "data": {
      "text/markdown": [
       "\n",
       "**utils.py:**\n"
      ],
      "text/plain": [
       "<IPython.core.display.Markdown object>"
      ]
     },
     "metadata": {},
     "output_type": "display_data"
    },
    {
     "name": "stdout",
     "output_type": "stream",
     "text": [
      "def sum(a, b):\n",
      "\treturn a + b\n"
     ]
    }
   ],
   "source": [
    "from IPython.display import Markdown, display\n",
    "def print_files():\n",
    "  display(Markdown(\"**main.py:**\\n\"))\n",
    "  print(open('main.py').read())\n",
    "  display(Markdown(\"\\n**utils.py:**\\n\"))\n",
    "  print(open('utils.py').read())\n",
    "\n",
    "print_files()"
   ]
  },
  {
   "cell_type": "code",
   "execution_count": null,
   "metadata": {
    "colab": {
     "base_uri": "https://localhost:8080/"
    },
    "id": "0eWNjhn0U-Cw",
    "outputId": "cb472015-6a2c-4676-b9a0-ef3ef232736f"
   },
   "outputs": [
    {
     "name": "stdout",
     "output_type": "stream",
     "text": [
      "Let's sum 3 and 6\n",
      "The answer is 9\n"
     ]
    }
   ],
   "source": [
    "!python main.py"
   ]
  },
  {
   "cell_type": "markdown",
   "metadata": {},
   "source": [
    "Let's now add some more functionalities to our repository.\n",
    "\n",
    "Open utils.py and add the following function\n",
    "<code>def multiply(a, b):\n",
    "  return a * b<code>\n",
    "Now open main.py and add at the end the following code\n",
    "<code>print()\n",
    "print(f\\\"Let's multiply {x} and {y}\\\")\n",
    "z = multiply(x, y)\n",
    "print(f'The answer is {z}')<code>"
   ]
  },
  {
   "cell_type": "code",
   "execution_count": null,
   "metadata": {
    "colab": {
     "base_uri": "https://localhost:8080/",
     "height": 371
    },
    "id": "zn9_R1LWZD6V",
    "outputId": "7ec0f759-a80a-4b4f-ea09-4458cdae5039"
   },
   "outputs": [
    {
     "data": {
      "text/markdown": [
       "**main.py:**\n"
      ],
      "text/plain": [
       "<IPython.core.display.Markdown object>"
      ]
     },
     "metadata": {},
     "output_type": "display_data"
    },
    {
     "name": "stdout",
     "output_type": "stream",
     "text": [
      "from utils import *\n",
      "\n",
      "x = 3\n",
      "y = 6\n",
      "print(f\"Let's sum {x} and {y}\")\n",
      "z = sum(x, y)\n",
      "print(f'The answer is {z}')\n",
      "print()\n",
      "print(f\"Let's multiply {x} and {y}\")\n",
      "z = multiply(x, y)\n",
      "print(f'The answer is {z}')\n",
      "\n"
     ]
    },
    {
     "data": {
      "text/markdown": [
       "\n",
       "**utils.py:**\n"
      ],
      "text/plain": [
       "<IPython.core.display.Markdown object>"
      ]
     },
     "metadata": {},
     "output_type": "display_data"
    },
    {
     "name": "stdout",
     "output_type": "stream",
     "text": [
      "def sum(a, b):\n",
      "\treturn a + b\n",
      "\n",
      "def multiply(a, b):\n",
      "\treturn a * b\n"
     ]
    }
   ],
   "source": [
    "print_files()"
   ]
  },
  {
   "cell_type": "code",
   "execution_count": null,
   "metadata": {
    "colab": {
     "base_uri": "https://localhost:8080/"
    },
    "id": "HSNpROhcZL0d",
    "outputId": "6940eefa-3cf9-4610-9e47-402cc7a310c8"
   },
   "outputs": [
    {
     "name": "stdout",
     "output_type": "stream",
     "text": [
      "Let's sum 3 and 6\n",
      "The answer is 9\n",
      "\n",
      "Let's multiply 3 and 6\n",
      "The answer is 18\n"
     ]
    }
   ],
   "source": [
    "!python main.py"
   ]
  },
  {
   "cell_type": "markdown",
   "metadata": {},
   "source": [
    "## Stage, Commit, Push\n",
    "The Stage-Commit-Push pipeline forms the core workflow in Git and GitHub.\n",
    "It involves three steps:\n",
    "- **Stage (git add):** This step lets us choose which files or specific changes within files we want to upload to the repository. Think of it as picking what updates to include in the next package we send to the repository. This flexibility allows us to decide which changes are put together in the current package and which ones to include in the next.\n",
    "- **Commit (git commit):** After selecting our changes, we use this command to make them a permanent part of the project's history. Creating a commit is like taking a snapshot of the entire project at a specific moment, keeping also track of the changes with the previous version. It's what makes version control possible. Each commit comes with a short message explaining what was done. It's best to keep these messages clear and concise (usually less than 60 characters). It's a good practice to keep commits as small as possible, having a single conceptual change in each of them, reflected by the fact that the message summarising all changes inside it shouldn't exceed 60 characters.\n",
    "- **Push (gti push):** Once we've saved our changes locally, we use this command to upload them to the online repository. This step ensures that our work is visible to collaborators and keeps the project up to date for everyone involved."
   ]
  },
  {
   "cell_type": "markdown",
   "metadata": {},
   "source": [
    "### Stage\n",
    "Let's add the two edited files with the git add command\n",
    "<code>git add <file_name><code>\n",
    "(To add only specific lines refer to \"--patch\" option online)"
   ]
  },
  {
   "cell_type": "code",
   "execution_count": null,
   "metadata": {
    "collapsed": false,
    "jupyter": {
     "outputs_hidden": false
    }
   },
   "outputs": [],
   "source": [
    "!git add main.py utils.py"
   ]
  },
  {
   "cell_type": "markdown",
   "metadata": {},
   "source": [
    "### Commit\n",
    "Let's commit the staged changes with the git commit command\n",
    "<code>git commit -m <your_message><code>"
   ]
  },
  {
   "cell_type": "code",
   "execution_count": null,
   "metadata": {
    "collapsed": false,
    "jupyter": {
     "outputs_hidden": false
    }
   },
   "outputs": [],
   "source": [
    "!git commit -m \"Add multiply\""
   ]
  },
  {
   "cell_type": "markdown",
   "metadata": {},
   "source": [
    "### Push\n",
    "Let's push the committed changes with the git push command\n",
    "<code>git push origin <destination><code>"
   ]
  },
  {
   "cell_type": "code",
   "execution_count": null,
   "metadata": {
    "collapsed": false,
    "jupyter": {
     "outputs_hidden": false
    }
   },
   "outputs": [],
   "source": [
    "!git push origin development"
   ]
  },
  {
   "cell_type": "markdown",
   "metadata": {},
   "source": [
    "# Archive your Repository in Zenodo"
   ]
  },
  {
   "cell_type": "markdown",
   "metadata": {},
   "source": [
    "Zenodo is a general-purpose open repository developed under the European OpenAIRE program and operated by CERN. It allows researchers to upload research-related digital material including papers, data sets, software, reports, and more. To each submission is assigned a persistent digital object identifier (DOI), facilitating easy citation of the stored items.\n",
    "\n",
    "Archiving in Zenodo requires two steps: linking your GitHub repository with Zenodo and then creating and publishing a realease of your repository."
   ]
  },
  {
   "cell_type": "markdown",
   "metadata": {},
   "source": [
    "**Link GitHub with Zenodo**\n",
    "1. Log in to [Zenodo](https://zenodo.org/) with your GitHub account (Zenodo may promp you to authorize GitHub)\n",
    "\n",
    "<img src=\"images/zenodo_login.png\" width=\"300\"/>\n",
    "\n",
    "2. From the drop-down menu next to your email address, select GitHub\n",
    "\n",
    "<img src=\"images/zenodo_dropdown.png\" width=\"700\"/>\n",
    "\n",
    "3. You will see your GitHub repositories. If needed, click on the button *\"Sync Now\"* to update\n",
    "\n",
    "<img src=\"images/zenodo_repo_homepage.png\" width=\"700\"/>\n",
    "\n",
    "**Archive your Repository**\n",
    "1. Toggle the *\"ON\"* button next to the repository you want to archive\n",
    "\n",
    "<img src=\"images/zenodo_repo_toggle.png\" width=\"500\"/>\n",
    "\n",
    "2. Click on the name of the repository\n",
    "3. Click on the *\"Create Release\"* button. This redirectes you back to GitHub's repository page\n",
    "\n",
    "<img src=\"images/zenodo_repo_release.png\" width=\"700\"/>\n",
    "\n",
    "4. Complete the fields (title, description, version number). If this your first release, use verions number v1.0.0\n",
    "5. Click *\"Public Release\"* at the bottom of the page\n",
    "\n",
    "<img src=\"images/repo_release.png\" width=\"700\"/>\n",
    "\n",
    "**What Now?** \\\n",
    "If you return to Zenod and access GitHub through Zenodo, you should see your repository listed under \"Neabled Repositories\" with a blue DOI button next to it (If it is not there, choose *\"Sync Now\"*). Now you can:\n",
    "1. Edit the archive and/or publish a new version\n",
    "2. Add a description of the repository and write the metadata\n",
    "3. Click the blue DOI button to copy the badege in Makrdown and add it to your README in GitHub\n",
    "\n",
    "<img src=\"images/enabled_repo.png\" width=\"700\"/>\n",
    "\n",
    "<img src=\"images/doi_badge.png\" width=\"400\"/>"
   ]
  },
  {
   "cell_type": "code",
   "execution_count": null,
   "metadata": {},
   "outputs": [],
   "source": []
  }
 ],
 "metadata": {
  "colab": {
   "provenance": []
  },
  "kernelspec": {
   "display_name": "Python 3 (ipykernel)",
   "language": "python",
   "name": "python3"
  },
  "language_info": {
   "codemirror_mode": {
    "name": "ipython",
    "version": 3
   },
   "file_extension": ".py",
   "mimetype": "text/x-python",
   "name": "python",
   "nbconvert_exporter": "python",
   "pygments_lexer": "ipython3",
   "version": "3.9.16"
  }
 },
 "nbformat": 4,
 "nbformat_minor": 4
}
