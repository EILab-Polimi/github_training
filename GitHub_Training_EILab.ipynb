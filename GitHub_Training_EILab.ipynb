{
 "cells": [
  {
   "cell_type": "markdown",
   "metadata": {
    "id": "9VIVSmVeYhWJ",
    "tags": []
   },
   "source": [
    "# Git and GitHub Training Notebook: EILab's Collaborative Coding Guide #"
   ]
  },
  {
   "cell_type": "markdown",
   "metadata": {},
   "source": [
    "Welcome to the Environmental Intelligence Lab's (EILab) introductory guide to **GitHub** and **Git**. \\\n",
    "This guide is designed to equip you with the fundamental skills and knowledge needed to harness the power of Git and GitHub. **Git** is a distributed version control system designed to handle projects with speed and efficiency, organizigin them in repositories. It allows multiple developers to work together on the same codebase, enabling them to track changes, revert to previous states, and branch off to develop new features without affecting the main project. **Github** is a cloud-based hosting service that lets you manage Git repositories. It is the leading platform for version control and collaborative software development. GitHub makes it incredibly easy to collaborate on projects, review code, manage changes, and maintain a history of your work."
   ]
  },
  {
   "cell_type": "markdown",
   "metadata": {
    "tags": []
   },
   "source": [
    "## Set up a GitHub Repository and Clone into local folder ##"
   ]
  },
  {
   "cell_type": "markdown",
   "metadata": {},
   "source": [
    "**Set Up the Repository**\n",
    "1. Log in to [GitHub.com](https://github.com/)\n",
    "2. Click on the green button *\"New\"*\n",
    "\n",
    "<img src=\"images/github_homepage.png\" width=\"700\"/>\n",
    "\n",
    "3. Choose a descriptive name and write a brief description for your repository\n",
    "4. Select whether to make the repository public or private\n",
    "5. Add a README file, or you can do it later (just make sure you include one!)\n",
    "6. Choose which files not to track (.gitignore file)\n",
    "7. Choose a license for your repository (if applicable)\n",
    "8. Click on the green button *\"Create repository\"*\n",
    "\n",
    "<img src=\"images/repo_setup.png\" width=\"700\"/>\n",
    "\n",
    "**Clone the Repository**\n",
    "\n",
    "1. On [GitHub.com](https://github.com/), navigate to the main page of the repository\n",
    "2. Above the list of files, click on the green button *\"<> Code\"*\n",
    "\n",
    "<img src=\"images/repo_homepage.png\" width=\"700\"/>\n",
    "\n",
    "3. Copy the URL for the repository \n",
    "\n",
    "<img src=\"images/repo_url_copy.png\" width=\"700\"/>\n",
    "\n",
    "4. Open Terminal\n",
    "5. Change the current working directory to the location where you want the cloned repository\n",
    "6. Type <code>git clone</code>, and then paste the URL copied earlier \\\n",
    "    <code>git clone https://github.com/Carmelo-Belo/trial_repository.git</code>\n",
    "7. Press **Enter** to create your local clone \\\n",
    "    <code>$ git clone https://github.com/Carmelo-Belo/trial_repository.git</code> \\\n",
    "    <code>> Cloning into 'trial_repository'...</code> \\\n",
    "    <code>> remote: Enumerating objects: 4, done.</code> \\\n",
    "    <code>> remote: Counting objects: 100% (4/4), done.</code> \\\n",
    "    <code>> remote: Compressing objects: 100% (4/4), done.</code> \\\n",
    "    <code>> remote: Total 4 (delta 0), reused 0 (delta 0), pack-reused 0</code> \\\n",
    "    <code>> Receiving objects: 100% (4/4), done.</code>"
   ]
  },
  {
   "cell_type": "code",
   "execution_count": null,
   "metadata": {
    "colab": {
     "base_uri": "https://localhost:8080/",
     "height": 249
    },
    "id": "8EPHVhgnZOK-",
    "outputId": "35074864-54c3-4e85-d29d-80d5c0c4f0d5"
   },
   "outputs": [
    {
     "data": {
      "text/markdown": [
       "**main.py:**\n"
      ],
      "text/plain": [
       "<IPython.core.display.Markdown object>"
      ]
     },
     "metadata": {},
     "output_type": "display_data"
    },
    {
     "name": "stdout",
     "output_type": "stream",
     "text": [
      "from utils import *\n",
      "\n",
      "x = 3\n",
      "y = 6\n",
      "print(f\"Let's sum {x} and {y}\")\n",
      "z = sum(x, y)\n",
      "print(f'The answer is {z}')\n",
      "\n"
     ]
    },
    {
     "data": {
      "text/markdown": [
       "\n",
       "**utils.py:**\n"
      ],
      "text/plain": [
       "<IPython.core.display.Markdown object>"
      ]
     },
     "metadata": {},
     "output_type": "display_data"
    },
    {
     "name": "stdout",
     "output_type": "stream",
     "text": [
      "def sum(a, b):\n",
      "\treturn a + b\n"
     ]
    }
   ],
   "source": [
    "from IPython.display import Markdown, display\n",
    "def print_files():\n",
    "  display(Markdown(\"**main.py:**\\n\"))\n",
    "  print(open('main.py').read())\n",
    "  display(Markdown(\"\\n**utils.py:**\\n\"))\n",
    "  print(open('utils.py').read())\n",
    "\n",
    "print_files()"
   ]
  },
  {
   "cell_type": "code",
   "execution_count": null,
   "metadata": {
    "colab": {
     "base_uri": "https://localhost:8080/"
    },
    "id": "0eWNjhn0U-Cw",
    "outputId": "cb472015-6a2c-4676-b9a0-ef3ef232736f"
   },
   "outputs": [
    {
     "name": "stdout",
     "output_type": "stream",
     "text": [
      "Let's sum 3 and 6\n",
      "The answer is 9\n"
     ]
    }
   ],
   "source": [
    "!python main.py"
   ]
  },
  {
   "cell_type": "code",
   "execution_count": null,
   "metadata": {
    "colab": {
     "base_uri": "https://localhost:8080/",
     "height": 371
    },
    "id": "zn9_R1LWZD6V",
    "outputId": "7ec0f759-a80a-4b4f-ea09-4458cdae5039"
   },
   "outputs": [
    {
     "data": {
      "text/markdown": [
       "**main.py:**\n"
      ],
      "text/plain": [
       "<IPython.core.display.Markdown object>"
      ]
     },
     "metadata": {},
     "output_type": "display_data"
    },
    {
     "name": "stdout",
     "output_type": "stream",
     "text": [
      "from utils import *\n",
      "\n",
      "x = 3\n",
      "y = 6\n",
      "print(f\"Let's sum {x} and {y}\")\n",
      "z = sum(x, y)\n",
      "print(f'The answer is {z}')\n",
      "print()\n",
      "print(f\"Let's multiply {x} and {y}\")\n",
      "z = multiply(x, y)\n",
      "print(f'The answer is {z}')\n",
      "\n"
     ]
    },
    {
     "data": {
      "text/markdown": [
       "\n",
       "**utils.py:**\n"
      ],
      "text/plain": [
       "<IPython.core.display.Markdown object>"
      ]
     },
     "metadata": {},
     "output_type": "display_data"
    },
    {
     "name": "stdout",
     "output_type": "stream",
     "text": [
      "def sum(a, b):\n",
      "\treturn a + b\n",
      "\n",
      "def multiply(a, b):\n",
      "\treturn a * b\n"
     ]
    }
   ],
   "source": [
    "with open('utils.py', 'a') as utils:\n",
    "  mul = \"\\n\\ndef multiply(a, b):\\n\\treturn a * b\"\n",
    "  utils.write(mul)\n",
    "\n",
    "with open('main.py', 'a') as main:\n",
    "  mul = \"print()\\nprint(f\\\"Let's multiply {x} and {y}\\\")\\nz = multiply(x, y)\\nprint(f'The answer is {z}')\\n\"\n",
    "  main.write(mul)\n",
    "\n",
    "print_files()"
   ]
  },
  {
   "cell_type": "code",
   "execution_count": null,
   "metadata": {
    "colab": {
     "base_uri": "https://localhost:8080/"
    },
    "id": "HSNpROhcZL0d",
    "outputId": "6940eefa-3cf9-4610-9e47-402cc7a310c8"
   },
   "outputs": [
    {
     "name": "stdout",
     "output_type": "stream",
     "text": [
      "Let's sum 3 and 6\n",
      "The answer is 9\n",
      "\n",
      "Let's multiply 3 and 6\n",
      "The answer is 18\n"
     ]
    }
   ],
   "source": [
    "!python main.py"
   ]
  },
  {
   "cell_type": "markdown",
   "metadata": {},
   "source": [
    "## Staging"
   ]
  },
  {
   "cell_type": "code",
   "execution_count": null,
   "metadata": {
    "collapsed": false,
    "jupyter": {
     "outputs_hidden": false
    }
   },
   "outputs": [],
   "source": [
    "!git add main.py utils.py"
   ]
  }
 ],
 "metadata": {
  "colab": {
   "provenance": []
  },
  "kernelspec": {
   "display_name": "Python 3 (ipykernel)",
   "language": "python",
   "name": "python3"
  },
  "language_info": {
   "codemirror_mode": {
    "name": "ipython",
    "version": 3
   },
   "file_extension": ".py",
   "mimetype": "text/x-python",
   "name": "python",
   "nbconvert_exporter": "python",
   "pygments_lexer": "ipython3",
   "version": "3.9.16"
  }
 },
 "nbformat": 4,
 "nbformat_minor": 4
}
