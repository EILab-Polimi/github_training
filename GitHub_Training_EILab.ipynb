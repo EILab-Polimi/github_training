{
 "cells": [
  {
   "cell_type": "markdown",
   "metadata": {
    "id": "9VIVSmVeYhWJ",
    "tags": []
   },
   "source": [
    "# Git and GitHub Training Notebook: EILab's Collaborative Coding Guide #"
   ]
  },
  {
   "cell_type": "markdown",
   "metadata": {},
   "source": [
    "Welcome to the Environmental Intelligence Lab's (EILab) introductory guide to **GitHub** and **Git**!\n",
    "\n",
    "This guide is designed to equip you with the fundamental skills and knowledge needed to harness the power of Git and GitHub. \n",
    "\n",
    "**Git** is a distributed version control system designed to handle projects with speed and efficiency, organizing them in repositories. It allows multiple developers to work together on the same codebase, enabling them to track changes, revert to previous states, and branch off to develop new features without affecting the main project. \n",
    "\n",
    "**GitHub** is a cloud-based hosting service that lets you manage Git repositories. It is the leading platform for version control and collaborative software development, allowing developers to store and manage their code. GitHub makes it incredibly easy to collaborate on projects, review code, manage changes, and maintain a history of your work. \\\n",
    "GitHub is the world's largest source code host. It was founded in 2008 and in 2018 was acquired by Microsoft for 7.5 billion US$. AS of January 2023, Github reported having over 100 milion developers and more than 372 milion repositories. "
   ]
  },
  {
   "cell_type": "markdown",
   "metadata": {
    "jp-MarkdownHeadingCollapsed": true,
    "tags": []
   },
   "source": [
    "## GitHub Mascot: The Octocat"
   ]
  },
  {
   "cell_type": "markdown",
   "metadata": {},
   "source": [
    "GitHub's mascot is an anthropomorphized \"octocat\", a cat with five octopus-like arms.\n",
    "\n",
    "<img src=\"images/octocat.jpg\" width=\"300\"/>\n",
    "\n",
    "You can also [Build your own octocat](https://myoctocat.com/)"
   ]
  },
  {
   "cell_type": "markdown",
   "metadata": {
    "jp-MarkdownHeadingCollapsed": true,
    "tags": []
   },
   "source": [
    "## Set up a GitHub Repository and Clone it into local folder ##"
   ]
  },
  {
   "cell_type": "markdown",
   "metadata": {
    "tags": []
   },
   "source": [
    "### Set Up the Repository"
   ]
  },
  {
   "cell_type": "markdown",
   "metadata": {
    "tags": []
   },
   "source": [
    "1. Log in to [GitHub.com](https://github.com/)\n",
    "2. Click on the green button *\"New\"*\n",
    "\n",
    "<img src=\"images/github_homepage.png\" width=\"700\"/>\n",
    "\n",
    "3. Choose a descriptive name and write a brief description for your repository\n",
    "4. Select whether to make the repository public or private\n",
    "5. Add a README file, or you can do it later (just make sure you include one!)\n",
    "6. Choose which files not to track (.gitignore file)\n",
    "7. Choose a license for your repository (if applicable)\n",
    "8. Click on the green button *\"Create repository\"*\n",
    "\n",
    "<img src=\"images/repo_setup.png\" width=\"700\"/>"
   ]
  },
  {
   "cell_type": "markdown",
   "metadata": {
    "tags": []
   },
   "source": [
    "### Clone the Repository"
   ]
  },
  {
   "cell_type": "markdown",
   "metadata": {
    "tags": []
   },
   "source": [
    "1. On [GitHub.com](https://github.com/), navigate to the main page of the repository\n",
    "2. Above the list of files, click on the green button *\"<> Code\"*\n",
    "\n",
    "<img src=\"images/repo_homepage.png\" width=\"700\"/>\n",
    "\n",
    "3. Copy the URL for the repository \n",
    "\n",
    "<img src=\"images/repo_url_copy.png\" width=\"700\"/>\n",
    "\n",
    "4. Open Terminal\n",
    "5. Change the current working directory to the location where you want the cloned repository\n",
    "6. Type <code>git clone</code>, and then paste the URL copied earlier \\\n",
    "    <code>git clone https://github.com/Carmelo-Belo/trial_repository.git</code>\n",
    "7. Press **Enter** to create your local clone \\\n",
    "    <code>$ git clone https://github.com/Carmelo-Belo/trial_repository.git</code> \\\n",
    "    <code>> Cloning into 'trial_repository'...</code> \\\n",
    "    <code>> remote: Enumerating objects: 4, done.</code> \\\n",
    "    <code>> remote: Counting objects: 100% (4/4), done.</code> \\\n",
    "    <code>> remote: Compressing objects: 100% (4/4), done.</code> \\\n",
    "    <code>> remote: Total 4 (delta 0), reused 0 (delta 0), pack-reused 0</code> \\\n",
    "    <code>> Receiving objects: 100% (4/4), done.</code>"
   ]
  },
  {
   "cell_type": "code",
   "execution_count": 1,
   "metadata": {
    "colab": {
     "base_uri": "https://localhost:8080/",
     "height": 249
    },
    "id": "8EPHVhgnZOK-",
    "outputId": "35074864-54c3-4e85-d29d-80d5c0c4f0d5",
    "pycharm": {
     "is_executing": true
    },
    "tags": []
   },
   "outputs": [
    {
     "data": {
      "text/markdown": [
       "**main.py:**\n"
      ],
      "text/plain": [
       "<IPython.core.display.Markdown object>"
      ]
     },
     "metadata": {},
     "output_type": "display_data"
    },
    {
     "name": "stdout",
     "output_type": "stream",
     "text": [
      "from utils import *\n",
      "\n",
      "x = 3\n",
      "y = 6\n",
      "print(f\"Let's sum {x} and {y}\")\n",
      "z = sum(x, y)\n",
      "print(f\"The answer is {z}\")\n",
      "\n"
     ]
    },
    {
     "data": {
      "text/markdown": [
       "\n",
       "**utils.py:**\n"
      ],
      "text/plain": [
       "<IPython.core.display.Markdown object>"
      ]
     },
     "metadata": {},
     "output_type": "display_data"
    },
    {
     "name": "stdout",
     "output_type": "stream",
     "text": [
      "def sum(a, b):\n",
      "\treturn a + b\n",
      "\n"
     ]
    }
   ],
   "source": [
    "from IPython.display import Markdown, display\n",
    "def print_files():\n",
    "  display(Markdown(\"**main.py:**\\n\"))\n",
    "  print(open('main.py').read())\n",
    "  display(Markdown(\"\\n**utils.py:**\\n\"))\n",
    "  print(open('utils.py').read())\n",
    "\n",
    "print_files()"
   ]
  },
  {
   "cell_type": "code",
   "execution_count": 2,
   "metadata": {
    "colab": {
     "base_uri": "https://localhost:8080/"
    },
    "id": "0eWNjhn0U-Cw",
    "outputId": "cb472015-6a2c-4676-b9a0-ef3ef232736f",
    "pycharm": {
     "is_executing": true
    },
    "tags": []
   },
   "outputs": [
    {
     "name": "stdout",
     "output_type": "stream",
     "text": [
      "Let's sum 3 and 6\n",
      "The answer is 9\n"
     ]
    }
   ],
   "source": [
    "!python main.py"
   ]
  },
  {
   "cell_type": "markdown",
   "metadata": {},
   "source": [
    "Let's now add some more functionalities to our repository.\n",
    "\n",
    "Open utils.py and add the following function\n",
    "```python\n",
    "def multiply(a, b):\n",
    "    return a * b\n",
    "```\n",
    "\n",
    "Now open main.py and add at the end the following code\n",
    "```python\n",
    "print()\n",
    "print(f\"Let's multiply {x} and {y}\")\n",
    "z = multiply(x, y)\n",
    "print(f\"The answer is {z}\")\n",
    "```"
   ]
  },
  {
   "cell_type": "code",
   "execution_count": 3,
   "metadata": {
    "colab": {
     "base_uri": "https://localhost:8080/",
     "height": 371
    },
    "id": "zn9_R1LWZD6V",
    "outputId": "7ec0f759-a80a-4b4f-ea09-4458cdae5039",
    "pycharm": {
     "is_executing": true
    },
    "tags": []
   },
   "outputs": [
    {
     "data": {
      "text/markdown": [
       "**main.py:**\n"
      ],
      "text/plain": [
       "<IPython.core.display.Markdown object>"
      ]
     },
     "metadata": {},
     "output_type": "display_data"
    },
    {
     "name": "stdout",
     "output_type": "stream",
     "text": [
      "from utils import *\n",
      "\n",
      "x = 3\n",
      "y = 6\n",
      "print(f\"Let's sum {x} and {y}\")\n",
      "z = sum(x, y)\n",
      "print(f\"The answer is {z}\")\n",
      "\n"
     ]
    },
    {
     "data": {
      "text/markdown": [
       "\n",
       "**utils.py:**\n"
      ],
      "text/plain": [
       "<IPython.core.display.Markdown object>"
      ]
     },
     "metadata": {},
     "output_type": "display_data"
    },
    {
     "name": "stdout",
     "output_type": "stream",
     "text": [
      "def sum(a, b):\n",
      "\treturn a + b\n",
      "\n"
     ]
    }
   ],
   "source": [
    "print_files()"
   ]
  },
  {
   "cell_type": "code",
   "execution_count": 4,
   "metadata": {
    "colab": {
     "base_uri": "https://localhost:8080/"
    },
    "id": "HSNpROhcZL0d",
    "outputId": "6940eefa-3cf9-4610-9e47-402cc7a310c8",
    "pycharm": {
     "is_executing": true
    },
    "tags": []
   },
   "outputs": [
    {
     "name": "stdout",
     "output_type": "stream",
     "text": [
      "Let's sum 3 and 6\n",
      "The answer is 9\n"
     ]
    }
   ],
   "source": [
    "!python main.py"
   ]
  },
  {
   "cell_type": "markdown",
   "metadata": {
    "jp-MarkdownHeadingCollapsed": true,
    "tags": []
   },
   "source": [
    "## Stage, Commit, Push"
   ]
  },
  {
   "cell_type": "markdown",
   "metadata": {},
   "source": [
    "The Stage-Commit-Push pipeline forms the core workflow in Git and GitHub.\n",
    "It involves three steps:\n",
    "- **Stage (git add):** This step lets us choose which files or specific changes within files we want to upload to the repository. Think of it as picking what updates to include in the next package we send to the repository. This flexibility allows us to decide which changes are put together in the current package and which ones to include in the next.\n",
    "- **Commit (git commit):** After selecting our changes, we use this command to make them a permanent part of the project's history. Creating a commit is like taking a snapshot of the entire project at a specific moment, keeping also track of the changes with the previous version. It's what makes version control possible. Each commit comes with a short message explaining what was done. It's best to keep these messages clear and concise (usually less than 60 characters). It's a good practice to keep commits as small as possible, having a single conceptual change in each of them, reflected by the fact that the message summarising all changes inside it shouldn't exceed 60 characters.\n",
    "- **Push (git push):** Once we've saved our changes locally, we use this command to upload them to the online repository. This step ensures that our work is visible to collaborators and keeps the project up to date for everyone involved."
   ]
  },
  {
   "cell_type": "markdown",
   "metadata": {
    "tags": []
   },
   "source": [
    "### Stage\n",
    "Let's add the two edited files with the git add command\n",
    "<code>git add file_name<code>\n",
    "(To add only specific lines refer to \"--patch\" option online)"
   ]
  },
  {
   "cell_type": "code",
   "execution_count": 8,
   "metadata": {
    "collapsed": false,
    "jupyter": {
     "outputs_hidden": false
    }
   },
   "outputs": [],
   "source": [
    "!git add main.py utils.py"
   ]
  },
  {
   "cell_type": "markdown",
   "metadata": {},
   "source": [
    "To remove a file from the staged changes run `git reset file_name`."
   ]
  },
  {
   "cell_type": "markdown",
   "metadata": {},
   "source": [
    "### Commit\n",
    "Let's commit the staged changes with the git commit command\n",
    "<code>git commit -m your_message<code>"
   ]
  },
  {
   "cell_type": "code",
   "execution_count": null,
   "metadata": {
    "pycharm": {
     "is_executing": true
    }
   },
   "outputs": [],
   "source": [
    "!git commit -m \"Add multiply\""
   ]
  },
  {
   "cell_type": "markdown",
   "metadata": {},
   "source": [
    "### Push\n",
    "Let's push the committed changes with the git push command\n",
    "<code>git push origin main<code>"
   ]
  },
  {
   "cell_type": "code",
   "execution_count": null,
   "metadata": {
    "collapsed": false,
    "jupyter": {
     "outputs_hidden": false
    },
    "pycharm": {
     "is_executing": true
    }
   },
   "outputs": [],
   "source": [
    "!git push -f origin development"
   ]
  },
  {
   "cell_type": "markdown",
   "metadata": {
    "tags": []
   },
   "source": [
    "## Other commands"
   ]
  },
  {
   "cell_type": "markdown",
   "metadata": {
    "jp-MarkdownHeadingCollapsed": true,
    "tags": []
   },
   "source": [
    "In addition to the Stage-Commit-Push pipeline, Git provides other essential commands:\n",
    "- **Fetch (git fetch):** Retrieves changes from a remote repository but does not automatically incorporate them into your local branch. It's like checking for updates on the server without incorporating them into your work yet.\n",
    "- **Merge (git merge):** Combines changes from different sources, like merging two independent storylines into one cohesive narrative. It's often used to incorporate changes from a feature branch into the main branch or when the same file is changed by multiple collaborators on the same lines.\n",
    "- **Pull (git pull):** This command combines the fetch and merge operations. It fetches changes from the remote repository and automatically merges them into your current branch, offering a convenient way to update your local codebase with the latest changes from the remote repository.\n",
    "- **Revert (git revert):** Undoes all changes introduced by a specific commit without removing it from the project's history. It creates a new commit that reverses the changes made in the previous commit.\n",
    "- **Rebase (git rebase):** An alternative to merging, rebase allows you to integrate changes by moving or combining commits, resulting in a more linear project history. It's like rewriting the story to make it more streamlined and cohesive."
   ]
  },
  {
   "cell_type": "markdown",
   "metadata": {
    "tags": []
   },
   "source": [
    "### Handling Conflicts during git pull:"
   ]
  },
  {
   "cell_type": "markdown",
   "metadata": {},
   "source": [
    "When performing a `git pull`, conflicts may arise. This means that the two versions of the file merged have different changes on the same lines or that the automatic merger wasn't able to perform the operation straightforwardly. When these situations occur:\n",
    "1. Git prompts you to perform a manual merge of the conflicting parts.\n",
    "2. Open the conflicting files in your editor. Note that different editors may have various tools to facilitate conflict resolution.\n",
    "3. Git marks conflicting sections with special markers like `<<<<<<<`, `=======`, and `>>>>>>>`.\n",
    "4. Manually edit the file to keep the desired changes, or use your editor's tools to accept changes.\n",
    "5. Remove conflict markers and any unnecessary code introduced by the conflict.\n",
    "6. Manually save the changes.\n",
    "7. Use `git add conflicting_file` to stage the resolved file.\n",
    "8. Rerun `git pull`; Git will merge the changes, completing the pull operation.\n",
    "9. After resolving conflicts, use `git commit` to create a new commit that includes the resolved changes.\n",
    "10. Finally, push all changes to the remote repository with `git push`."
   ]
  },
  {
   "cell_type": "markdown",
   "metadata": {
    "tags": []
   },
   "source": [
    "## Branches"
   ]
  },
  {
   "cell_type": "markdown",
   "metadata": {},
   "source": [
    "Branches in Git create isolated environments, allowing developers to work on different experiments, bug fixes, or features without impacting the main workflow. This flexibility is particularly useful when multiple developers are simultaneously working on different features, because having their dedicated branches allows them to freely experiment with the code and commit changes without influencing others' work. Once the code is ready, it can be seamlessly merged into the main development line.\n",
    "When creating a branch, you start by selecting a branching point, a specific commit from which the branch will be created with those exact files. To create a new branch from the last commit, run `git branch new_branch_name`. To create a new branch from a specific commit, run `git branch new_branch_name [original_commit_hash]`. This command creates a new branch but doesn't automatically switch to it.\n",
    "To switch to a different branch, use `git checkout new_branch_name` or `git switch new_branch_name`.\n",
    "After completing development on a branch, to merge it into the main storyline (or a different branch), follow these steps:\n",
    "1. Switch to the target branch (e.g., main) with `git checkout main`.\n",
    "2. As a good practice, pull the latest changes from the remote repository with `git pull origin main`.\n",
    "3. Merge the branch into the target branch with `git merge new_branch_name`, and resolve any conflicts that may arise during the merge.\n",
    "4. Commit the merge with `git commit -m \"Merge new_branch_name into main\"`.\n",
    "5. Push the changes with `git push origin main`.\n"
   ]
  },
  {
   "cell_type": "markdown",
   "metadata": {
    "tags": []
   },
   "source": [
    "## Other GitHub functionalities"
   ]
  },
  {
   "cell_type": "markdown",
   "metadata": {},
   "source": [
    "Every GitHub repository has a set of noteworthy characteristics:\n",
    "1. **Stars:** GitHub's bookmark functionality, it offers a quick glimpse of the repository's popularity and developer consideration. A repository with at least a hundred stars is often considered a well-designed product (depending on how niche that product is).\n",
    "2. **Views:** Number of times a repository has been viewed. While less critical, it can help identifying the repository's popularity and if it's frequently searched.\n",
    "3. **Last Update:** Date of the last commit, providing insights into the repository's maintenance and activity. Recent updates often indicate active development.\n",
    "4. **Forks:** A fork is a copy of a repository created in your own account. It enables users to freely experiment with or continue work on that repository.\n",
    "5. **Issues:** Provides a structured communication channel among collaborators and users for tracking tasks, bug fixes, and discussions. It's a valuable resource for finding bug-fix solutions and workarounds, and it's searchable by search engines.\n",
    "6. **Pull Requests:** A pull request (PR) is a proposed change submitted by a user, contributing to bug fixes or improvements. Reflects the collaborative spirit of open-source development and community strength.\n",
    "7. **Contributors:** Lists accounts that have contributed to the repository through commits or accepted pull requests, acknowledging individuals involved in the project's development."
   ]
  },
  {
   "cell_type": "markdown",
   "metadata": {
    "tags": []
   },
   "source": [
    "## Integrated Development Environments interface for Git"
   ]
  },
  {
   "cell_type": "markdown",
   "metadata": {},
   "source": [
    "Several **Integrated Development Environments (IDEs)** offer built-in support or plugins to interface with Git, facilitating version control directly within the development environment. Each IDE may offer different levels of integration and unique features, so the choice often depends on the specific needs of the project and the developer's preferences.\n",
    "\n",
    "An incomplete list of popular IDEs that provide Git integration:\n",
    "1. [Visual Studio Code (VS Code)](https://code.visualstudio.com/)\n",
    "2. [PyCharm](https://www.jetbrains.com/pycharm/)\n",
    "3. [IntelliJ IDEA](https://www.jetbrains.com/idea/)\n",
    "4. [Eclipse](https://www.eclipse.org/ide/)\n",
    "5. [Visual Studio](https://visualstudio.microsoft.com/it/vs/)"
   ]
  },
  {
   "cell_type": "markdown",
   "metadata": {
    "jp-MarkdownHeadingCollapsed": true,
    "tags": []
   },
   "source": [
    "## GitHub Desktop"
   ]
  },
  {
   "cell_type": "markdown",
   "metadata": {},
   "source": [
    "[GitHub Desktop](https://desktop.github.com/) is a user-friendly application designed to simplify the use of Git and GitHub in a graphical interface, making version control more accessible to developers and non-developers alike. It's tailored for those who prefer a graphical interface over command-line tools, offering a visually intuitive experience for managing code repositories.\n",
    "\n",
    "The image below shows the GitHub Desktop window. There are a few elements worth commenting:\n",
    "1. *Repository Selection Button:* Located at the top left, this button allows you to navigate through your repositories, enabling you to select the specific repository you wish to work on.\n",
    "2. *Branch Selection Dropdown:* Positioned next to the repository selection, this dropdown enables you to select and switch between different branches within the chosen repository.\n",
    "3. *Fetch Button:* serves multiple purposes in maintaining the synchronization between your local and remote repository:\n",
    "    - Checking for Changes/Updates: clicking the Fetch button initiates a check for any new changes or updates in the remote repository since your last synchronization. This process includes new commits made by other collaborators, updated branches, or any other modifications.\n",
    "    - Pushing local Commits: after committing local changes, you can use the Fetch button to push these changes to the remote repository.\n",
    "    - Preparing for Merges and Pulls: before you merge or pull changes, it's a good practice to fetch the latest updates. This ensures that you are aware of the current state of the remote repository and can avoid merge conflicts.\n",
    "    - Handling conflict: in instances where automatic merging results in conflicts, GitHub Desktop provides a notification. This alert typically includes a prompt directing you to your editor, allowing you to manually resolve the conflict. \n",
    "4. *Changes Tab:* This tab displays a list of modified files in your current repository. It highlights the changes you have made that are yet to be committed and pushed to the remote repository.\n",
    "5. *Commit Preparation Box:* Located in the bottom left, this box is where you prepare your commits.\n",
    "\n",
    "<img src=\"images/github_desktop1.png\" width=\"700\"/>\n",
    "\n",
    "The *History* tab displays a comprehensive log of all the changes made in the repository, along with relevant information. This feature enables you to browse through all the previous versions of the files, providing a detailed historical overview of the repository's evolution.   \n",
    "\n",
    "<img src=\"images/github_desktop2.png\" width=\"700\"/>"
   ]
  },
  {
   "cell_type": "markdown",
   "metadata": {
    "jp-MarkdownHeadingCollapsed": true,
    "tags": []
   },
   "source": [
    "## Archive your Repository in Zenodo"
   ]
  },
  {
   "cell_type": "markdown",
   "metadata": {},
   "source": [
    "Zenodo is a general-purpose open repository developed under the European OpenAIRE program and operated by CERN. It allows researchers to upload research-related digital material including papers, data sets, software, reports, and more. To each submission is assigned a persistent digital object identifier (DOI), facilitating easy citation of the stored items.\n",
    "\n",
    "Archiving in Zenodo requires two steps: linking your GitHub repository with Zenodo and then creating and publishing a realease of your repository."
   ]
  },
  {
   "cell_type": "markdown",
   "metadata": {},
   "source": [
    "### Link GitHub with Zenodo"
   ]
  },
  {
   "cell_type": "markdown",
   "metadata": {},
   "source": [
    "1. Log in to [Zenodo](https://zenodo.org/) with your GitHub account (Zenodo may promp you to authorize GitHub)\n",
    "\n",
    "<img src=\"images/zenodo_login.png\" width=\"300\"/>\n",
    "\n",
    "2. From the drop-down menu next to your email address, select GitHub\n",
    "\n",
    "<img src=\"images/zenodo_dropdown.png\" width=\"700\"/>\n",
    "\n",
    "3. You will see your GitHub repositories. If needed, click on the button *\"Sync Now\"* to update\n",
    "\n",
    "<img src=\"images/zenodo_repo_homepage.png\" width=\"700\"/>"
   ]
  },
  {
   "cell_type": "markdown",
   "metadata": {},
   "source": [
    "### Archive your Repository"
   ]
  },
  {
   "cell_type": "markdown",
   "metadata": {},
   "source": [
    "1. Toggle the *\"ON\"* button next to the repository you want to archive\n",
    "\n",
    "<img src=\"images/zenodo_repo_toggle.png\" width=\"500\"/>\n",
    "\n",
    "2. Click on the name of the repository\n",
    "3. Click on the *\"Create Release\"* button. This redirectes you back to GitHub's repository page\n",
    "\n",
    "<img src=\"images/zenodo_repo_release.png\" width=\"700\"/>\n",
    "\n",
    "4. Complete the fields (title, description, version number). If this your first release, use verions number v1.0.0\n",
    "5. Click *\"Public Release\"* at the bottom of the page\n",
    "\n",
    "<img src=\"images/repo_release.png\" width=\"700\"/>"
   ]
  },
  {
   "cell_type": "markdown",
   "metadata": {},
   "source": [
    "### What Now?"
   ]
  },
  {
   "cell_type": "markdown",
   "metadata": {
    "tags": []
   },
   "source": [
    "If you return to Zenod and access GitHub through Zenodo, you should see your repository listed under \"Neabled Repositories\" with a blue DOI button next to it (If it is not there, choose *\"Sync Now\"*). Now you can:\n",
    "1. Edit the archive and/or publish a new version\n",
    "2. Add a description of the repository and write the metadata\n",
    "3. Click the blue DOI button to copy the badege in Makrdown and add it to your README in GitHub\n",
    "\n",
    "<img src=\"images/enabled_repo.png\" width=\"700\"/>\n",
    "\n",
    "<img src=\"images/doi_badge.png\" width=\"400\"/>"
   ]
  },
  {
   "cell_type": "markdown",
   "metadata": {
    "jp-MarkdownHeadingCollapsed": true,
    "tags": []
   },
   "source": [
    "## Access to GitHub Global Campus for students or faculty members"
   ]
  },
  {
   "cell_type": "markdown",
   "metadata": {},
   "source": [
    "As a student or faculty member at an accredited educational isntitution, you can apply for [GitHub Global Campus](https://education.github.com/globalcampus/student), which is the portal that gives access to the education benefits of the [GitHub Education Community](https://github.com/orgs/community/discussions/categories/github-education). In the portal it's included the access to industry tools used by professional developers, events, [Campus TV](https://www.twitch.tv/githubeducation) content, [GitHub Classroom](https://classroom.github.com/classrooms), GitHub Student Developer Pack, and other exclusive features to help students and teachers.\n",
    "\n",
    "GitHub Global Campus students also receive two major benefits:\n",
    "1. [GitHub Copilot](https://github.com/features/copilot): an AI pair programmer that offers autocomplete-style suggestions as you code \n",
    "2. [GitHub Codespaces](https://github.com/features/codespaces): a development environment hosted in the cloud\n",
    "\n",
    "To be eliglible for GitHub Global Campus you must:\n",
    "- Be currently enrolled in a degree or diploma granting course of study such as a high school, secondary school, college, university, homeschool, or similar educational institution\n",
    "- Have a verifiable school-issued email address or upload documents that prove your current student status\n",
    "- Have a GitHub personal account\n",
    "- Be at least 13 years old"
   ]
  },
  {
   "cell_type": "markdown",
   "metadata": {
    "tags": []
   },
   "source": [
    "### Applying to GitHub Global Campus"
   ]
  },
  {
   "cell_type": "markdown",
   "metadata": {},
   "source": [
    "1. Go to [GitHub Education](https://education.github.com/) and, in the top navigator bar, click *\"Benefits\"*\n",
    "\n",
    "<img src=\"images/github_education.png\" width=\"700\"/>\n",
    "\n",
    "2. Under *\"Individuals\"*, click *\"Get student benefits\"*\n",
    "\n",
    "<img src=\"images/github_benefits_student.png\" width=\"400\"/>\n",
    "\n",
    "3. Under *\"Select the academic status\"*, select *\"Student\"*\n",
    "\n",
    "<img src=\"images/github_benefits_student2.png\" width=\"400\"/>\n",
    "\n",
    "4. Select or add the email address you use for school\n",
    "5. Enter you school's name\n",
    "6. Describe how you plan to use GitHub\n",
    "7. Click *\"Continue\"*, and then you will be prompted to upload a proof of your academic status\n",
    "\n",
    "<img src=\"images/github_benefit3.png\" width=\"400\"/>\n",
    "\n",
    "8. Click *\"Take a picture\"* to use you computer's camera to upload proof\n",
    "9. Place you valid academic ID or other proof of current academic status in the frame, then click *\"Take picture\"*\n",
    "10. Under *\"Proof Type\"*, use the dropdown menu to select the type of proof you are providing\n",
    "\n",
    "<img src=\"images/upload_proof.webp\" width=\"400\"/>\n",
    "\n",
    "11. Verify your application details, then click *\"Process my application\"*"
   ]
  },
  {
   "cell_type": "markdown",
   "metadata": {
    "jp-MarkdownHeadingCollapsed": true,
    "tags": []
   },
   "source": [
    "### Obtain Proof of Academic Status"
   ]
  },
  {
   "cell_type": "markdown",
   "metadata": {},
   "source": [
    "As proof of academic status for GitHub Global Campus are accepted both a picture of the academic ID card or the picture of the self certification of enrollment to the degree or the diploma. \n",
    "\n",
    "The picture of the academic ID card needs to show both a picture of yourself and the title of student, which is not always the case for Tesserino Polimi. We suggest you to use the **self certification of enrollment** which worked for us. "
   ]
  },
  {
   "cell_type": "markdown",
   "metadata": {},
   "source": [
    "To get the self certification of enrollment: \n",
    "1. Go to the Online services of Polimi and Log In\n",
    "2. In the Homepage, under *\"Services\"* got to *\"Data\"* and click on *\"Certificate and sel certification request\"*\n",
    "\n",
    "<img src=\"images/servizi_online_homepage.png\" width=\"700\"/>\n",
    "\n",
    "3. In the Certificate requests and self-certification page click on *\"CAREER CERTIFICATE\"*\n",
    "\n",
    "<img src=\"images/career_certificate.png\" width=\"700\"/>\n",
    "\n",
    "4. In the next page complete the *\"Parameter definition\"* for the document\n",
    "- Use of the certificate: Self-certification\n",
    "- Certificate language: English\n",
    "- Display career vector: YES - career data without annual scolarship amount\n",
    "- Display exams in the study plan: YES\n",
    "- Display thesis data: FINAL DEGREE NOT OBTAINED\n",
    "- For use: Abroad - without legislation\n",
    "5. Then click on the *\"Confirm\"* button\n",
    "\n",
    "<img src=\"images/self_certification.png\" width=\"700\"/>\n",
    "\n",
    "6. In the next page click on *\"Print self-certification in PDF format\"* \n",
    "7. Sign the document and then convert it to an image for uploading"
   ]
  },
  {
   "cell_type": "code",
   "execution_count": null,
   "metadata": {},
   "outputs": [],
   "source": []
  }
 ],
 "metadata": {
  "colab": {
   "provenance": []
  },
  "kernelspec": {
   "display_name": "Python 3 (ipykernel)",
   "language": "python",
   "name": "python3"
  },
  "language_info": {
   "codemirror_mode": {
    "name": "ipython",
    "version": 3
   },
   "file_extension": ".py",
   "mimetype": "text/x-python",
   "name": "python",
   "nbconvert_exporter": "python",
   "pygments_lexer": "ipython3",
   "version": "3.9.16"
  }
 },
 "nbformat": 4,
 "nbformat_minor": 4
}
