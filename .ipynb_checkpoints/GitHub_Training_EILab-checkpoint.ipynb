{
  "nbformat": 4,
  "nbformat_minor": 0,
  "metadata": {
    "colab": {
      "provenance": []
    },
    "kernelspec": {
      "name": "python3",
      "display_name": "Python 3"
    },
    "language_info": {
      "name": "python"
    }
  },
  "cells": [
    {
      "cell_type": "markdown",
      "source": [],
      "metadata": {
        "id": "9VIVSmVeYhWJ"
      }
    },
    {
      "cell_type": "code",
      "execution_count": null,
      "metadata": {
        "colab": {
          "base_uri": "https://localhost:8080/"
        },
        "id": "WHO_UzzrS0iB",
        "outputId": "a63e11bf-72d8-4df7-a786-129366abd6bb"
      },
      "outputs": [
        {
          "output_type": "stream",
          "name": "stdout",
          "text": [
            "/content\n",
            "Cloning into 'github_training'...\n",
            "remote: Enumerating objects: 14, done.\u001b[K\n",
            "remote: Counting objects: 100% (14/14), done.\u001b[K\n",
            "remote: Compressing objects: 100% (9/9), done.\u001b[K\n",
            "remote: Total 14 (delta 1), reused 8 (delta 1), pack-reused 0\u001b[K\n",
            "Receiving objects: 100% (14/14), done.\n",
            "Resolving deltas: 100% (1/1), done.\n",
            "/content/github_training\n"
          ]
        }
      ],
      "source": [
        "!rm -rf sample_data\n",
        "%cd /content/\n",
        "!rm -rf github_training/\n",
        "!git clone https://github.com/EILab-Polimi/github_training.git\n",
        "%cd github_training"
      ]
    },
    {
      "cell_type": "code",
      "source": [
        "from IPython.display import Markdown, display\n",
        "def print_files():\n",
        "  display(Markdown(\"**main.py:**\\n\"))\n",
        "  print(open('main.py').read())\n",
        "  display(Markdown(\"\\n**utils.py:**\\n\"))\n",
        "  print(open('utils.py').read())\n",
        "\n",
        "print_files()"
      ],
      "metadata": {
        "colab": {
          "base_uri": "https://localhost:8080/",
          "height": 249
        },
        "id": "8EPHVhgnZOK-",
        "outputId": "35074864-54c3-4e85-d29d-80d5c0c4f0d5"
      },
      "execution_count": null,
      "outputs": [
        {
          "output_type": "display_data",
          "data": {
            "text/plain": [
              "<IPython.core.display.Markdown object>"
            ],
            "text/markdown": "**main.py:**\n"
          },
          "metadata": {}
        },
        {
          "output_type": "stream",
          "name": "stdout",
          "text": [
            "from utils import *\n",
            "\n",
            "x = 3\n",
            "y = 6\n",
            "print(f\"Let's sum {x} and {y}\")\n",
            "z = sum(x, y)\n",
            "print(f'The answer is {z}')\n",
            "\n"
          ]
        },
        {
          "output_type": "display_data",
          "data": {
            "text/plain": [
              "<IPython.core.display.Markdown object>"
            ],
            "text/markdown": "\n**utils.py:**\n"
          },
          "metadata": {}
        },
        {
          "output_type": "stream",
          "name": "stdout",
          "text": [
            "def sum(a, b):\n",
            "\treturn a + b\n"
          ]
        }
      ]
    },
    {
      "cell_type": "code",
      "source": [
        "!python main.py"
      ],
      "metadata": {
        "colab": {
          "base_uri": "https://localhost:8080/"
        },
        "id": "0eWNjhn0U-Cw",
        "outputId": "cb472015-6a2c-4676-b9a0-ef3ef232736f"
      },
      "execution_count": null,
      "outputs": [
        {
          "output_type": "stream",
          "name": "stdout",
          "text": [
            "Let's sum 3 and 6\n",
            "The answer is 9\n"
          ]
        }
      ]
    },
    {
      "cell_type": "code",
      "source": [
        "with open('utils.py', 'a') as utils:\n",
        "  mul = \"\\n\\ndef multiply(a, b):\\n\\treturn a * b\"\n",
        "  utils.write(mul)\n",
        "\n",
        "with open('main.py', 'a') as main:\n",
        "  mul = \"print()\\nprint(f\\\"Let's multiply {x} and {y}\\\")\\nz = multiply(x, y)\\nprint(f'The answer is {z}')\\n\"\n",
        "  main.write(mul)\n",
        "\n",
        "print_files()"
      ],
      "metadata": {
        "colab": {
          "base_uri": "https://localhost:8080/",
          "height": 371
        },
        "id": "zn9_R1LWZD6V",
        "outputId": "7ec0f759-a80a-4b4f-ea09-4458cdae5039"
      },
      "execution_count": null,
      "outputs": [
        {
          "output_type": "display_data",
          "data": {
            "text/plain": [
              "<IPython.core.display.Markdown object>"
            ],
            "text/markdown": "**main.py:**\n"
          },
          "metadata": {}
        },
        {
          "output_type": "stream",
          "name": "stdout",
          "text": [
            "from utils import *\n",
            "\n",
            "x = 3\n",
            "y = 6\n",
            "print(f\"Let's sum {x} and {y}\")\n",
            "z = sum(x, y)\n",
            "print(f'The answer is {z}')\n",
            "print()\n",
            "print(f\"Let's multiply {x} and {y}\")\n",
            "z = multiply(x, y)\n",
            "print(f'The answer is {z}')\n",
            "\n"
          ]
        },
        {
          "output_type": "display_data",
          "data": {
            "text/plain": [
              "<IPython.core.display.Markdown object>"
            ],
            "text/markdown": "\n**utils.py:**\n"
          },
          "metadata": {}
        },
        {
          "output_type": "stream",
          "name": "stdout",
          "text": [
            "def sum(a, b):\n",
            "\treturn a + b\n",
            "\n",
            "def multiply(a, b):\n",
            "\treturn a * b\n"
          ]
        }
      ]
    },
    {
      "cell_type": "code",
      "source": [
        "!python main.py"
      ],
      "metadata": {
        "colab": {
          "base_uri": "https://localhost:8080/"
        },
        "id": "HSNpROhcZL0d",
        "outputId": "6940eefa-3cf9-4610-9e47-402cc7a310c8"
      },
      "execution_count": null,
      "outputs": [
        {
          "output_type": "stream",
          "name": "stdout",
          "text": [
            "Let's sum 3 and 6\n",
            "The answer is 9\n",
            "\n",
            "Let's multiply 3 and 6\n",
            "The answer is 18\n"
          ]
        }
      ]
    }
  ]
}